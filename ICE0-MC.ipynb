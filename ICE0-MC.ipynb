{
 "cells": [
  {
   "cell_type": "code",
   "execution_count": null,
   "id": "18fc721b",
   "metadata": {},
   "outputs": [],
   "source": [
    "a = 4\n",
    "b = 2\n",
    "c = a + b\n",
    "print(c)"
   ]
  },
  {
   "cell_type": "markdown",
   "id": "31cdd7f9",
   "metadata": {},
   "source": [
    "#### Explaination\n",
    "\n",
    "The code above adds two numbers and prints the resulting sum."
   ]
  },
  {
   "cell_type": "code",
   "execution_count": 3,
   "id": "bb4bcb8e",
   "metadata": {},
   "outputs": [
    {
     "name": "stdout",
     "output_type": "stream",
     "text": [
      "The Zen of Python, by Tim Peters\n",
      "\n",
      "Beautiful is better than ugly.\n",
      "Explicit is better than implicit.\n",
      "Simple is better than complex.\n",
      "Complex is better than complicated.\n",
      "Flat is better than nested.\n",
      "Sparse is better than dense.\n",
      "Readability counts.\n",
      "Special cases aren't special enough to break the rules.\n",
      "Although practicality beats purity.\n",
      "Errors should never pass silently.\n",
      "Unless explicitly silenced.\n",
      "In the face of ambiguity, refuse the temptation to guess.\n",
      "There should be one-- and preferably only one --obvious way to do it.\n",
      "Although that way may not be obvious at first unless you're Dutch.\n",
      "Now is better than never.\n",
      "Although never is often better than *right* now.\n",
      "If the implementation is hard to explain, it's a bad idea.\n",
      "If the implementation is easy to explain, it may be a good idea.\n",
      "Namespaces are one honking great idea -- let's do more of those!\n"
     ]
    }
   ],
   "source": [
    "import this"
   ]
  },
  {
   "cell_type": "code",
   "execution_count": 4,
   "id": "7493556e",
   "metadata": {},
   "outputs": [
    {
     "name": "stdout",
     "output_type": "stream",
     "text": [
      "hello world\n"
     ]
    }
   ],
   "source": [
    "print(\"hello world\")"
   ]
  },
  {
   "cell_type": "code",
   "execution_count": 5,
   "id": "efef4c8c",
   "metadata": {},
   "outputs": [
    {
     "name": "stdout",
     "output_type": "stream",
     "text": [
      "3 7 10 Whatsup\n"
     ]
    }
   ],
   "source": [
    "x=3\n",
    "y=7\n",
    "xy='Whatsup'\n",
    "print(x,y,x+y,xy)"
   ]
  },
  {
   "cell_type": "code",
   "execution_count": 6,
   "id": "6db7dd0b",
   "metadata": {},
   "outputs": [
    {
     "name": "stdout",
     "output_type": "stream",
     "text": [
      "3\n",
      "5\n",
      "7\n"
     ]
    }
   ],
   "source": [
    "print(x)\n",
    "x=5\n",
    "print(x)\n",
    "x=y\n",
    "print(x)"
   ]
  },
  {
   "cell_type": "code",
   "execution_count": 7,
   "id": "3008651c",
   "metadata": {},
   "outputs": [
    {
     "name": "stdout",
     "output_type": "stream",
     "text": [
      "1+2= 3\n",
      "2-1= 1\n",
      "1*2= 2\n",
      "9/3= 3.0\n"
     ]
    }
   ],
   "source": [
    "a=1+2\n",
    "print(\"1+2=\",a)\n",
    "b=2-1\n",
    "print(\"2-1=\",b)\n",
    "c=1*2\n",
    "print(\"1*2=\",c)\n",
    "d=9/3\n",
    "print(\"9/3=\",d)"
   ]
  },
  {
   "cell_type": "code",
   "execution_count": 8,
   "id": "a69fe15b",
   "metadata": {},
   "outputs": [
    {
     "name": "stdout",
     "output_type": "stream",
     "text": [
      "m= 1\n",
      "f= 3\n"
     ]
    }
   ],
   "source": [
    "m=10%3\n",
    "print(\"m=\",m)\n",
    "f=10//3\n",
    "print(\"f=\",f)"
   ]
  },
  {
   "cell_type": "code",
   "execution_count": 9,
   "id": "f5fa26fe",
   "metadata": {},
   "outputs": [
    {
     "name": "stdout",
     "output_type": "stream",
     "text": [
      "a= 3 ; m= 1 ; f= 3\n",
      "a is equal to f? True\n",
      "a is not equal to f? False\n",
      "m is smaller than f? True\n",
      "m is larger than f? False\n"
     ]
    }
   ],
   "source": [
    "# division-related operators\n",
    "print(\"a=\",a,\"; m=\",m,\"; f=\",f)\n",
    "print(\"a is equal to f?\", a==f)\n",
    "print(\"a is not equal to f?\", a!=f)\n",
    "print(\"m is smaller than f?\", m<f)\n",
    "print(\"m is larger than f?\", m>f)"
   ]
  },
  {
   "cell_type": "code",
   "execution_count": 2,
   "id": "2d38e6b9",
   "metadata": {},
   "outputs": [
    {
     "data": {
      "text/plain": [
       "'C:\\\\Users\\\\MeinE'"
      ]
     },
     "execution_count": 2,
     "metadata": {},
     "output_type": "execute_result"
    }
   ],
   "source": [
    "# boolean operators : return true or false\n",
    "import os\n",
    "os.getcwd()"
   ]
  },
  {
   "cell_type": "code",
   "execution_count": 3,
   "id": "da9c330d",
   "metadata": {},
   "outputs": [],
   "source": [
    "os.chdir('D:\\\\Learning\\\\CU\\\\Courses\\\\EDM\\\\Output')"
   ]
  },
  {
   "cell_type": "code",
   "execution_count": 4,
   "id": "194403b6",
   "metadata": {},
   "outputs": [
    {
     "data": {
      "text/plain": [
       "'D:\\\\Learning\\\\CU\\\\Courses\\\\EDM\\\\Output'"
      ]
     },
     "execution_count": 4,
     "metadata": {},
     "output_type": "execute_result"
    }
   ],
   "source": [
    "os.getcwd()"
   ]
  },
  {
   "cell_type": "code",
   "execution_count": null,
   "id": "4a53149e",
   "metadata": {},
   "outputs": [],
   "source": [
    "# This line is a comment it won't run."
   ]
  }
 ],
 "metadata": {
  "kernelspec": {
   "display_name": "Python 3",
   "language": "python",
   "name": "python3"
  },
  "language_info": {
   "codemirror_mode": {
    "name": "ipython",
    "version": 3
   },
   "file_extension": ".py",
   "mimetype": "text/x-python",
   "name": "python",
   "nbconvert_exporter": "python",
   "pygments_lexer": "ipython3",
   "version": "3.8.8"
  }
 },
 "nbformat": 4,
 "nbformat_minor": 5
}
