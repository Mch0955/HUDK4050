{
 "cells": [
  {
   "cell_type": "markdown",
   "id": "28a7f458",
   "metadata": {},
   "source": [
    "## Diagnostic Metrics"
   ]
  },
  {
   "cell_type": "code",
   "execution_count": 6,
   "id": "122c9053",
   "metadata": {
    "scrolled": false
   },
   "outputs": [
    {
     "name": "stderr",
     "output_type": "stream",
     "text": [
      "D:\\Learning\\CU\\Courses\\EDM\\ANACONDA\\ANA\\lib\\site-packages\\sklearn\\utils\\validation.py:63: DataConversionWarning: A column-vector y was passed when a 1d array was expected. Please change the shape of y to (n_samples, ), for example using ravel().\n",
      "  return f(*args, **kwargs)\n"
     ]
    }
   ],
   "source": [
    "# Import data from ACA2\n",
    "import os\n",
    "os.chdir('D:\\\\Learning\\\\CU\\\\Courses\\\\EDM\\\\ACA2\\\\aca2_dataset')\n",
    "import numpy as np\n",
    "import pandas as pd\n",
    "TrainData=pd.read_csv(\"aca2_dataset_training.csv\")\n",
    "ValiData=pd.read_csv(\"aca2_dataset_validation.csv\")\n",
    "TraData=TrainData.drop(['UNIQUEID','SCHOOL','Class','STUDENTID','CODER','OBSNUM','totalobs-forsession'],axis=1)\n",
    "TrData=TraData.drop(['NumACTIVITIES','NumFORMATS'],axis=1)\n",
    "ValData=ValiData.drop(['UNIQUEID','SCHOOL','Class','STUDENTID','CODER','OBSNUM','totalobs-forsession'],axis=1)\n",
    "VaData=ValData.drop(['NumACTIVITIES','NumFORMATS'],axis=1)\n",
    "Adummy=pd.get_dummies(TrData['Activity'])\n",
    "Odummy=pd.get_dummies(TrData['ONTASK'],prefix='ontask')\n",
    "TData=pd.concat([TrData,Adummy,Odummy],axis=1)\n",
    "TData=TData.drop(['ONTASK','ontask_N','Activity'],axis=1)\n",
    "Cdummy=pd.get_dummies(VaData['Activity'])\n",
    "Ndummy=pd.get_dummies(VaData['ONTASK'],prefix='ontask')\n",
    "VData=pd.concat([VaData,Cdummy,Ndummy],axis=1)\n",
    "VData=VData.drop(['ONTASK','ontask_N','Activity'],axis=1)\n",
    "TXs=TData.drop(['ontask_Y','FORMATchanges','Obsv/act','Transitions/Durations','Total Time'],axis=1)\n",
    "TY=TData.loc[:,\"ontask_Y\"].values.reshape(-1,1)\n",
    "\n",
    "from sklearn.tree import DecisionTreeClassifier\n",
    "OntaskTreeModel=DecisionTreeClassifier()\n",
    "OntaskTreeModel.fit(TXs,TY)\n",
    "from sklearn.naive_bayes import GaussianNB\n",
    "OntaskNBModel=GaussianNB()\n",
    "OntaskNBModel.fit(TXs,TY)\n",
    "\n",
    "\n",
    "VXs=VData.drop(['ontask_Y','FORMATchanges','Obsv/act','Transitions/Durations','Total Time'],axis=1)\n",
    "VY=VData.loc[:,\"ontask_Y\"].values.reshape(-1,1)\n",
    "PY=OntaskTreeModel.predict(VXs)\n",
    "PY2=OntaskNBModel.predict(VXs)"
   ]
  },
  {
   "cell_type": "markdown",
   "id": "a7d239e0",
   "metadata": {},
   "source": [
    "### 1. Classification"
   ]
  },
  {
   "cell_type": "markdown",
   "id": "23f6dde6",
   "metadata": {},
   "source": [
    "#### 1.1 Confusion matrix"
   ]
  },
  {
   "cell_type": "code",
   "execution_count": 8,
   "id": "c03fd39e",
   "metadata": {},
   "outputs": [
    {
     "name": "stdout",
     "output_type": "stream",
     "text": [
      "0.6684694429421308\n",
      "0.601406165494862\n"
     ]
    }
   ],
   "source": [
    "from sklearn.metrics import accuracy_score\n",
    "print(accuracy_score(VY,PY))\n",
    "print(accuracy_score(VY,PY2))"
   ]
  },
  {
   "cell_type": "code",
   "execution_count": 9,
   "id": "527c83ae",
   "metadata": {},
   "outputs": [
    {
     "name": "stdout",
     "output_type": "stream",
     "text": [
      "[[ 105 1744]\n",
      " [  95 3603]]\n",
      "[[ 677 1172]\n",
      " [1039 2659]]\n"
     ]
    }
   ],
   "source": [
    "from sklearn.metrics import confusion_matrix\n",
    "print(confusion_matrix(VY,PY))\n",
    "print(confusion_matrix(VY,PY2))"
   ]
  },
  {
   "cell_type": "markdown",
   "id": "e8c5f882",
   "metadata": {},
   "source": [
    "#### 1.2 ROC curves and AUC curves"
   ]
  },
  {
   "cell_type": "code",
   "execution_count": 26,
   "id": "25e621f8",
   "metadata": {},
   "outputs": [
    {
     "name": "stdout",
     "output_type": "stream",
     "text": [
      "0.5155489453758788\n",
      "0.542590589507842\n"
     ]
    }
   ],
   "source": [
    "from sklearn import metrics\n",
    "# calculate roc curve\n",
    "fpr,tpr,_=metrics.roc_curve(VY,PY)\n",
    "fpr2,tpr2,_=metrics.roc_curve(VY,PY2)\n",
    "print(metrics.auc(fpr,tpr))\n",
    "print(metrics.auc(fpr2,tpr2))"
   ]
  },
  {
   "cell_type": "code",
   "execution_count": 27,
   "id": "840a5a80",
   "metadata": {},
   "outputs": [
    {
     "name": "stdout",
     "output_type": "stream",
     "text": [
      "AUC:0.516\n",
      "AUC:0.543\n"
     ]
    }
   ],
   "source": [
    "from sklearn.metrics import roc_auc_score\n",
    "# calculate AUC\n",
    "auc=roc_auc_score(VY,PY)\n",
    "auc2=roc_auc_score(VY,PY2)\n",
    "print('AUC:%.3f'%auc)\n",
    "print('AUC:%.3f'%auc2)"
   ]
  },
  {
   "cell_type": "code",
   "execution_count": 28,
   "id": "a2f2009a",
   "metadata": {},
   "outputs": [
    {
     "data": {
      "image/png": "[encoded data removed]",
      "text/plain": [
       "<Figure size 432x288 with 1 Axes>"
      ]
     },
     "metadata": {
      "needs_background": "light"
     },
     "output_type": "display_data"
    },
    {
     "data": {
      "image/png": "[encoded data removed]",
      "text/plain": [
       "<Figure size 432x288 with 1 Axes>"
      ]
     },
     "metadata": {
      "needs_background": "light"
     },
     "output_type": "display_data"
    }
   ],
   "source": [
    "from matplotlib import pyplot\n",
    "pyplot.plot(fpr,tpr)\n",
    "pyplot.show()\n",
    "pyplot.plot(fpr2,tpr2)\n",
    "pyplot.show()"
   ]
  },
  {
   "cell_type": "markdown",
   "id": "19f6480f",
   "metadata": {},
   "source": [
    "#### 1.3 K-fold cross validation"
   ]
  },
  {
   "cell_type": "code",
   "execution_count": 35,
   "id": "fc7a86b6",
   "metadata": {},
   "outputs": [
    {
     "name": "stdout",
     "output_type": "stream",
     "text": [
      "accuracy of each fold - [0.6782334384858044, 0.6737269040108157, 0.6750788643533123, 0.6723749436683191, 0.6825969341749324, 0.6735798016230838, 0.672678088367899, 0.6632100991884581, 0.6744815148782687, 0.6559963931469792]\n",
      "Avg accuracy : 0.6721956981897872\n"
     ]
    }
   ],
   "source": [
    "# DecisionTree\n",
    "from sklearn.model_selection import KFold\n",
    "k=10\n",
    "kf=KFold(n_splits=k, random_state=None)\n",
    "acc_score=[]\n",
    "for train_index, test_index in kf.split(TXs):\n",
    "    X_train,X_test=TXs.iloc[train_index,:],TXs.iloc[test_index,:]\n",
    "    y_train,y_test=TY[train_index],TY[test_index]\n",
    "     \n",
    "    OntaskTreeModel.fit(X_train,y_train)\n",
    "    pred_values=OntaskTreeModel.predict(X_test)\n",
    "     \n",
    "    acc=accuracy_score(pred_values,y_test)\n",
    "    acc_score.append(acc)\n",
    "     \n",
    "avg_acc_score=sum(acc_score)/k\n",
    "\n",
    "print('accuracy of each fold - {}'.format(acc_score))\n",
    "print('Avg accuracy : {}'.format(avg_acc_score))"
   ]
  },
  {
   "cell_type": "code",
   "execution_count": 36,
   "id": "a2f99f8c",
   "metadata": {},
   "outputs": [
    {
     "name": "stderr",
     "output_type": "stream",
     "text": [
      "D:\\Learning\\CU\\Courses\\EDM\\ANACONDA\\ANA\\lib\\site-packages\\sklearn\\utils\\validation.py:63: DataConversionWarning: A column-vector y was passed when a 1d array was expected. Please change the shape of y to (n_samples, ), for example using ravel().\n",
      "  return f(*args, **kwargs)\n",
      "D:\\Learning\\CU\\Courses\\EDM\\ANACONDA\\ANA\\lib\\site-packages\\sklearn\\utils\\validation.py:63: DataConversionWarning: A column-vector y was passed when a 1d array was expected. Please change the shape of y to (n_samples, ), for example using ravel().\n",
      "  return f(*args, **kwargs)\n",
      "D:\\Learning\\CU\\Courses\\EDM\\ANACONDA\\ANA\\lib\\site-packages\\sklearn\\utils\\validation.py:63: DataConversionWarning: A column-vector y was passed when a 1d array was expected. Please change the shape of y to (n_samples, ), for example using ravel().\n",
      "  return f(*args, **kwargs)\n",
      "D:\\Learning\\CU\\Courses\\EDM\\ANACONDA\\ANA\\lib\\site-packages\\sklearn\\utils\\validation.py:63: DataConversionWarning: A column-vector y was passed when a 1d array was expected. Please change the shape of y to (n_samples, ), for example using ravel().\n",
      "  return f(*args, **kwargs)\n",
      "D:\\Learning\\CU\\Courses\\EDM\\ANACONDA\\ANA\\lib\\site-packages\\sklearn\\utils\\validation.py:63: DataConversionWarning: A column-vector y was passed when a 1d array was expected. Please change the shape of y to (n_samples, ), for example using ravel().\n",
      "  return f(*args, **kwargs)\n",
      "D:\\Learning\\CU\\Courses\\EDM\\ANACONDA\\ANA\\lib\\site-packages\\sklearn\\utils\\validation.py:63: DataConversionWarning: A column-vector y was passed when a 1d array was expected. Please change the shape of y to (n_samples, ), for example using ravel().\n",
      "  return f(*args, **kwargs)\n",
      "D:\\Learning\\CU\\Courses\\EDM\\ANACONDA\\ANA\\lib\\site-packages\\sklearn\\utils\\validation.py:63: DataConversionWarning: A column-vector y was passed when a 1d array was expected. Please change the shape of y to (n_samples, ), for example using ravel().\n",
      "  return f(*args, **kwargs)\n",
      "D:\\Learning\\CU\\Courses\\EDM\\ANACONDA\\ANA\\lib\\site-packages\\sklearn\\utils\\validation.py:63: DataConversionWarning: A column-vector y was passed when a 1d array was expected. Please change the shape of y to (n_samples, ), for example using ravel().\n",
      "  return f(*args, **kwargs)\n",
      "D:\\Learning\\CU\\Courses\\EDM\\ANACONDA\\ANA\\lib\\site-packages\\sklearn\\utils\\validation.py:63: DataConversionWarning: A column-vector y was passed when a 1d array was expected. Please change the shape of y to (n_samples, ), for example using ravel().\n",
      "  return f(*args, **kwargs)\n"
     ]
    },
    {
     "name": "stdout",
     "output_type": "stream",
     "text": [
      "accuracy of each fold - [0.6358720144209103, 0.5926092834610185, 0.5709779179810726, 0.6133393420459666, 0.6095581605049594, 0.6104598737601443, 0.5888187556357078, 0.6253381424706943, 0.6208295761947701, 0.5811541929666366]\n",
      "Avg accuracy : 0.604895725944188\n"
     ]
    },
    {
     "name": "stderr",
     "output_type": "stream",
     "text": [
      "D:\\Learning\\CU\\Courses\\EDM\\ANACONDA\\ANA\\lib\\site-packages\\sklearn\\utils\\validation.py:63: DataConversionWarning: A column-vector y was passed when a 1d array was expected. Please change the shape of y to (n_samples, ), for example using ravel().\n",
      "  return f(*args, **kwargs)\n"
     ]
    }
   ],
   "source": [
    "# Bayes\n",
    "from sklearn.model_selection import KFold\n",
    "k=10\n",
    "kf=KFold(n_splits=k, random_state=None)\n",
    "acc_score=[]\n",
    "for train_index, test_index in kf.split(TXs):\n",
    "    X_train,X_test=TXs.iloc[train_index,:],TXs.iloc[test_index,:]\n",
    "    y_train,y_test=TY[train_index],TY[test_index]\n",
    "     \n",
    "    OntaskNBModel.fit(X_train,y_train)\n",
    "    pred_values=OntaskNBModel.predict(X_test)\n",
    "     \n",
    "    acc=accuracy_score(pred_values,y_test)\n",
    "    acc_score.append(acc)\n",
    "     \n",
    "avg_acc_score=sum(acc_score)/k\n",
    "\n",
    "print('accuracy of each fold - {}'.format(acc_score))\n",
    "print('Avg accuracy : {}'.format(avg_acc_score))"
   ]
  },
  {
   "cell_type": "markdown",
   "id": "7eeab278",
   "metadata": {},
   "source": [
    "#### 1.4 Reflect on ACA2  \n",
    "I tried to use NBmodel as a comparison, it seems to perform better than DecisionTreemodel while showing ROC curves, however, Treemodel has better accuracy while calculating the confusion matrix as well as using the k-fold method.  \n",
    "But in conclusion, as showed by ROC curves, the two models both perform badly, as they both very close to no-skill curve. \n",
    "There must be problems exist at the very beginning of building this model, which is relevant to variables selection and calculation."
   ]
  },
  {
   "cell_type": "markdown",
   "id": "9e02b9b7",
   "metadata": {},
   "source": [
    "### 2. Clustering"
   ]
  },
  {
   "cell_type": "code",
   "execution_count": 45,
   "id": "47774416",
   "metadata": {},
   "outputs": [],
   "source": [
    "# Import data from ACA3\n",
    "import os\n",
    "os.chdir('D:\\\\Learning\\\\CU\\\\Courses\\\\EDM\\\\ACA3')\n",
    "import numpy as np\n",
    "import pandas as pd\n",
    "subsetcols=['UNITID','CURROPER','TUITFTE','COSTT4_A','COSTT4_P','NPT4_048_PUB','NPT4_048_PRIV','NPT4_048_PROG','PCTFLOAN','PCTPELL','C150_4_POOLED','C150_L4_POOLED','C200_4_POOLED','C200_L4_POOLED']\n",
    "CSCdata=pd.read_csv(\"CollegeScorecard.csv\",usecols=subsetcols)\n",
    "CSCdata=CSCdata[CSCdata['CURROPER']==1]\n",
    "CSCdata=CSCdata.fillna(0)\n",
    "CSCdata['COSTT4']=CSCdata['COSTT4_A']+CSCdata['COSTT4_P']\n",
    "CSCdata['NPT4_048']=CSCdata['NPT4_048_PUB']+CSCdata['NPT4_048_PRIV']+CSCdata['NPT4_048_PROG']\n",
    "CSCdata['C150']=CSCdata['C150_4_POOLED']+CSCdata['C150_L4_POOLED']\n",
    "CSCdata['C200']=CSCdata['C200_4_POOLED']+CSCdata['C200_L4_POOLED']\n",
    "CSCdata=CSCdata.drop(['CURROPER','COSTT4_A','COSTT4_P','NPT4_048_PUB','NPT4_048_PRIV','NPT4_048_PROG','C150_4_POOLED','C150_L4_POOLED','C200_4_POOLED','C200_L4_POOLED'],axis=1)\n",
    "CSCdata=CSCdata[(CSCdata['TUITFTE']>0)&(CSCdata['PCTPELL']>0)&(CSCdata['PCTFLOAN']>0)&(CSCdata['COSTT4']>0)&(CSCdata['NPT4_048']>0)&(CSCdata['C150']>0)&(CSCdata['C200']>0)]\n",
    "upT=13065+1.5*(13065-4687)\n",
    "upC=27395.5+1.5*(27395.5-14925)\n",
    "upN=19120+1.5*(19120-9184.5)\n",
    "CSCdata=CSCdata[(CSCdata['TUITFTE']<upT)&(CSCdata['COSTT4']<upC)&(CSCdata['NPT4_048']<upN)]\n",
    "CSC=CSCdata.drop('UNITID',axis=1)\n",
    "from sklearn import preprocessing\n",
    "CSC_scale=preprocessing.scale(CSC)\n",
    "CSC=pd.DataFrame(CSC_scale,columns=[\"TUITFTE\",\"PCTPELL\",\"PCTFLOAN\",\"COSTT4\",\"NPT4_048\",\"C150\",\"C200\"])\n",
    "from sklearn.decomposition import PCA\n",
    "pcatry=PCA(n_components=7)\n",
    "pcatry.fit(CSC)\n",
    "pca3=PCA(n_components=3)\n",
    "pca3.fit(CSC)\n",
    "CSCr=pcatry.transform(CSC)"
   ]
  },
  {
   "cell_type": "markdown",
   "id": "93ae5b33",
   "metadata": {},
   "source": [
    "#### 2.1 Screen plot for PCA"
   ]
  },
  {
   "cell_type": "code",
   "execution_count": 44,
   "id": "588bbd85",
   "metadata": {},
   "outputs": [
    {
     "data": {
      "image/png": "[encoded data removed]",
      "text/plain": [
       "<Figure size 432x288 with 1 Axes>"
      ]
     },
     "metadata": {
      "needs_background": "light"
     },
     "output_type": "display_data"
    },
    {
     "name": "stdout",
     "output_type": "stream",
     "text": [
      "[0.45348354 0.23260232 0.18004121 0.05562753 0.04562095 0.02264761\n",
      " 0.00997685]\n"
     ]
    }
   ],
   "source": [
    "import matplotlib.pyplot as plt\n",
    "PC_values = np.arange(pcatry.n_components_) + 1\n",
    "plt.plot(PC_values, pcatry.explained_variance_ratio_, 'o-', linewidth=2, color='blue')\n",
    "plt.title('Scree Plot')\n",
    "plt.xlabel('Principal Component')\n",
    "plt.ylabel('Variance Explained')\n",
    "plt.show()\n",
    "print(pcatry.explained_variance_ratio_)"
   ]
  },
  {
   "cell_type": "markdown",
   "id": "17702357",
   "metadata": {},
   "source": [
    "#### 2.2 Elbow method"
   ]
  },
  {
   "cell_type": "code",
   "execution_count": 49,
   "id": "49535325",
   "metadata": {},
   "outputs": [
    {
     "data": {
      "image/png": "[encoded data removed]",
      "text/plain": [
       "<Figure size 432x288 with 1 Axes>"
      ]
     },
     "metadata": {
      "needs_background": "light"
     },
     "output_type": "display_data"
    }
   ],
   "source": [
    "from sklearn.cluster import KMeans\n",
    "clusters_range = [1, 2, 3, 4, 5, 6]\n",
    "avg_distance=[]\n",
    "for n in clusters_range:\n",
    "  clusterer = KMeans(n_clusters = n).fit(CSCr)\n",
    "  avg_distance.append(clusterer.inertia_)\n",
    "\n",
    "plt.plot(clusters_range, avg_distance)\n",
    "plt.xlabel(\"Number of Clusters (k)\")\n",
    "plt.ylabel(\"Distance\")\n",
    "plt.show()"
   ]
  },
  {
   "cell_type": "markdown",
   "id": "139b7808",
   "metadata": {},
   "source": [
    "#### 2.3 Reflect on ACA3  \n",
    "It seems appropriate to select 3 PC in ACA3, as the forth PC drops drastically in the figure.  \n",
    "I tried silhouette plot for different numbers of clusters in ACA3, and the results showed that the scores for 3,4,5 are very close (though the scores slowly decrease). The elbow method demonstrates a clearer result, which confirms that 3 clusters maybe better for the data.  \n",
    "(However, I chose to use 5 clusters in ACA3, because it devides clearer for different types of schools.)"
   ]
  },
  {
   "cell_type": "code",
   "execution_count": null,
   "id": "0168b1d7",
   "metadata": {},
   "outputs": [],
   "source": []
  }
 ],
 "metadata": {
  "kernelspec": {
   "display_name": "Python 3",
   "language": "python",
   "name": "python3"
  },
  "language_info": {
   "codemirror_mode": {
    "name": "ipython",
    "version": 3
   },
   "file_extension": ".py",
   "mimetype": "text/x-python",
   "name": "python",
   "nbconvert_exporter": "python",
   "pygments_lexer": "ipython3",
   "version": "3.8.8"
  }
 },
 "nbformat": 4,
 "nbformat_minor": 5
}
